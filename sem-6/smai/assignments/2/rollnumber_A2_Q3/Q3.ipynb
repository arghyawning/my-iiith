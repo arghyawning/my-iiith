{
 "cells": [
  {
   "cell_type": "markdown",
   "metadata": {},
   "source": [
    "# SMAI Assignment - 2\n",
    "\n",
    "## Question 3: Face Recognition using Principal Component Analysis\n",
    "\n",
    "This question requires you to create a basic facial recognition system using a technique called principal component analysis (PCA) \n",
    "by projecting the face images on the feature space (face space) which best\n",
    "represents the variations among distinct faces. The face space is defined as the\n",
    "“Eigenfaces\", which are the eigenvectors of the set of faces.\n",
    "\n",
    "The goal of implementing this system is to recognize a person's face by comparing it to a pre-existing database of faces, and identifying the closest match.\n",
    "\n",
    "Link to paper on Eigenfaces: [https://sites.cs.ucsb.edu/~mturk/Papers/mturk-CVPR91.pdf](https://sites.cs.ucsb.edu/~mturk/Papers/mturk-CVPR91.pdf)\n",
    "\n",
    "The AT&T face dataset contains a set of grayscale face images with dimensions 92x112. The images are organised in 40 directories (one for each subject), which have names of the form sX, where X indicates the subject number (between 1 and 40). In each of these directories, there are ten different images of that subject, which have names of the form Y.pgm, where Y is the image number for that subject (between 1 and 10). These 10 images per person are taken at different times, varying the lighting, facial expressions (open / closed eyes, smiling / not smiling) and facial details (glasses / no glasses). All the images were taken against a dark homogeneous background with the subjects in an upright, frontal position (with tolerance for some side movement). <b>Link:</b> [https://git-disl.github.io/GTDLBench/datasets/att_face_dataset/](https://git-disl.github.io/GTDLBench/datasets/att_face_dataset/)"
   ]
  },
  {
   "cell_type": "markdown",
   "metadata": {},
   "source": [
    "#### Tasks\n",
    "1. Load dataset and divide the date into training and test sets. \n",
    "2. Implement the PCA algorithm from scratch.\n",
    "3. Implement image reconstruction using the eigen projections and visualise differences for different number of components.\n",
    "4. Visualise the mean(Eigen face) generated.\n",
    "5. Given training set, obtain accuracy by attempting a face regonition module and obtaining the accuracy for different number of principal components."
   ]
  },
  {
   "cell_type": "markdown",
   "metadata": {
    "id": "B4GItm3SaGkm"
   },
   "source": [
    "#### Import Libraries"
   ]
  },
  {
   "cell_type": "code",
   "execution_count": null,
   "metadata": {
    "id": "5V5H-w1KT9Q_"
   },
   "outputs": [],
   "source": [
    "import numpy as np\n",
    "import matplotlib.pyplot as plt\n",
    "import os, sys\n",
    "import cv2\n",
    "from copy import copy\n",
    "from tqdm import tqdm"
   ]
  },
  {
   "cell_type": "markdown",
   "metadata": {
    "id": "06BxLpbDaLm4"
   },
   "source": [
    "#### Import Dataset\n",
    "Assign labels for the images based on the subdirectories to obtain X(images array) and y (labels).\n",
    "\n",
    "Ensure that the test data contains atleast one image from each category."
   ]
  },
  {
   "cell_type": "code",
   "execution_count": null,
   "metadata": {
    "id": "9vERWwtKc51W"
   },
   "outputs": [],
   "source": [
    "# iterate through all folders, load each image\n",
    "\n",
    "trainAmt = 0.9\n",
    "allFaces = []\n",
    "labels = []\n",
    "\n",
    "for i in range(1,41):\n",
    "    for j in range(1,11):\n",
    "        imgPath = os.path.join(\"ATnT\", \"s\" + str(i), str(j) + \".pgm\")\n",
    "        img = cv2.imread(imgPath, -1)\n",
    "\n",
    "        allFaces.append(img)\n",
    "        labels.append(i)\n",
    "\n",
    "# shuffle\n",
    "randomOrder = np.random.permutation(len(labels))\n",
    "allFaces = np.array(allFaces)[randomOrder]\n",
    "labels = np.array(labels)[randomOrder]\n",
    "\n",
    "# split\n",
    "trainFaces = allFaces[:int(trainAmt*len(allFaces))]\n",
    "trainLabels = labels[:int(trainAmt*len(allFaces))]\n",
    "\n",
    "testFaces = allFaces[int(trainAmt*len(allFaces)): ]\n",
    "testLabels = labels[int(trainAmt*len(allFaces)): ]\n",
    "\n",
    "# 112x92 (= 10304) grayscale images,  360 in train, 40 in test\n",
    "print(trainFaces.shape, trainLabels.shape)"
   ]
  },
  {
   "cell_type": "markdown",
   "metadata": {
    "id": "TSzQYsRoc8N1"
   },
   "source": [
    "#### Implement PCA Algorithm."
   ]
  },
  {
   "cell_type": "markdown",
   "metadata": {
    "id": "n3Kwdw6GpKqr"
   },
   "source": [
    "Explain your steps with comments and write a brief explanation of the method."
   ]
  },
  {
   "cell_type": "code",
   "execution_count": null,
   "metadata": {
    "id": "8T5UAxCZc7kz"
   },
   "outputs": [],
   "source": [
    "def principalComponentAnalysis(X, numComponents):\n",
    "    \"\"\"\n",
    "    Implement pca in the following function by taking the following arguements:\n",
    "    1. X(images array)\n",
    "    2. number of components\n",
    "    The function must return the eigen vectors (principal components) also termed \"Eigen faces\"\n",
    "    \"\"\"\n",
    "\n",
    "    # your code here\n",
    "\n",
    "    return None"
   ]
  },
  {
   "cell_type": "code",
   "execution_count": null,
   "metadata": {},
   "outputs": [],
   "source": [
    "# plot the eigen faces\n",
    "%matplotlib inline"
   ]
  },
  {
   "cell_type": "markdown",
   "metadata": {
    "id": "h0R6r1oPkEGo"
   },
   "source": [
    "#### Implement Image Reconstruction from Eigenfaces\n"
   ]
  },
  {
   "cell_type": "markdown",
   "metadata": {
    "id": "L23jDvURpqzH"
   },
   "source": [
    "Explain your steps with comments and write a brief explanation of the method."
   ]
  },
  {
   "cell_type": "code",
   "execution_count": null,
   "metadata": {
    "id": "-4UJN0pGkfw_"
   },
   "outputs": [],
   "source": [
    "def imageReconstruction(testFace, eigenFaces, meanFace):\n",
    "    \"\"\"\n",
    "    Helper function to reconstruct images\n",
    "    \"\"\"\n",
    "  \n",
    "    # your code here\n",
    "\n",
    "    return None"
   ]
  },
  {
   "cell_type": "code",
   "execution_count": null,
   "metadata": {},
   "outputs": [],
   "source": [
    "# plot recontructions here\n",
    "%matplotlib inline"
   ]
  },
  {
   "cell_type": "markdown",
   "metadata": {
    "id": "5ESijWfFdE7E"
   },
   "source": [
    "#### Visualisation\n",
    "Visualise the results for different number of factors(pc = 5, 10, 50, 100, etc.)\n",
    "\n",
    "**Note:** Ensure that the images are labelled appropriately."
   ]
  },
  {
   "cell_type": "code",
   "execution_count": null,
   "metadata": {
    "id": "88Ygxo9fedW0"
   },
   "outputs": [],
   "source": [
    "%matplotlib inline\n",
    "\n",
    "def displayNfactors():\n",
    "\n",
    "    # your code here\n",
    "\n",
    "    return None"
   ]
  },
  {
   "cell_type": "markdown",
   "metadata": {
    "id": "Ssr9clIiecwq"
   },
   "source": [
    "#### Implement face recognition module based on the norm\n",
    "Explain your steps with comments and write a brief explanation of the method.\n",
    "\n",
    "*   Test the module and report accuracies based on the number of components taken for a range of value and plot them. \n",
    "*   Also plot the mean square error vs the number of eigenvectors taken and report your observations. \n",
    "*   For further empirical analysis, plot the semi-log variant of the error plot obtained above."
   ]
  },
  {
   "cell_type": "code",
   "execution_count": null,
   "metadata": {
    "id": "2ONCbWfbecAp"
   },
   "outputs": [],
   "source": [
    "def getClass():\n",
    "    \"\"\"\n",
    "    Arguments:\n",
    "    1. Test image\n",
    "    2. Eigenvectors\n",
    "    3. Mean Eigen Face\n",
    "    4. Training Set(X_train,y_train)\n",
    "\n",
    "    The function must return the following:\n",
    "    1. image with smallest error\n",
    "    2. error value\n",
    "    3. prediction class\n",
    "    \"\"\"\n",
    "\n",
    "    # your code here\n",
    "\n",
    "    return None"
   ]
  },
  {
   "cell_type": "markdown",
   "metadata": {},
   "source": [
    "Iterate through all the images in the test data and test the accuracy by taking different number of components"
   ]
  },
  {
   "cell_type": "code",
   "execution_count": null,
   "metadata": {
    "id": "UpJV8u-srqAL"
   },
   "outputs": [],
   "source": [
    "components = [3,5,10,20,30,40,50]\n",
    "mse = []\n",
    "\n",
    "for numComponents in components:\n",
    "    # your code here"
   ]
  },
  {
   "cell_type": "markdown",
   "metadata": {},
   "source": [
    "Plot Number of eigenvectors vs Mean Square Error"
   ]
  },
  {
   "cell_type": "code",
   "execution_count": null,
   "metadata": {
    "id": "dsIWsvdVsAoD"
   },
   "outputs": [],
   "source": [
    "# your code here"
   ]
  },
  {
   "cell_type": "markdown",
   "metadata": {},
   "source": [
    "Plot Number of eigenvectors vs Logarithmic Mean Square Error"
   ]
  },
  {
   "cell_type": "code",
   "execution_count": null,
   "metadata": {
    "id": "4B1IqwyMsNBF"
   },
   "outputs": [],
   "source": [
    "# your code here"
   ]
  }
 ],
 "metadata": {
  "colab": {
   "provenance": []
  },
  "kernelspec": {
   "display_name": "Python 3 (ipykernel)",
   "language": "python",
   "name": "python3"
  },
  "language_info": {
   "codemirror_mode": {
    "name": "ipython",
    "version": 3
   },
   "file_extension": ".py",
   "mimetype": "text/x-python",
   "name": "python",
   "nbconvert_exporter": "python",
   "pygments_lexer": "ipython3",
   "version": "3.9.15"
  }
 },
 "nbformat": 4,
 "nbformat_minor": 4
}
